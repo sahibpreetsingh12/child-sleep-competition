{
  "cells": [
    {
      "cell_type": "markdown",
      "source": [
        "# Goal of the competition\n",
        "\n",
        "The goal of this competition is to detect sleep onset and wake. You will develop a model trained on <b>wrist-worn accelerometer</b> data in order to determine a person's sleep state.\n",
        "\n",
        "Our work could make it possible for researchers to conduct more reliable, larger-scale sleep studies across a range of populations and contexts. The results of such studies could provide even more information about sleep.\n",
        "\n",
        "The successful outcome of this competition can also have significant implications for children and youth, especially those with mood and behavior difficulties. Sleep is crucial in regulating mood, emotions, and behavior in individuals of all ages, particularly children. By accurately detecting periods of sleep and wakefulness from wrist-worn accelerometer data, researchers can gain a deeper understanding of sleep patterns and better understand disturbances in children.\n"
      ],
      "metadata": {
        "id": "-lVw4M7gFD3_"
      },
      "id": "-lVw4M7gFD3_"
    },
    {
      "cell_type": "markdown",
      "id": "758ee1ae",
      "metadata": {
        "papermill": {
          "duration": 0.005026,
          "end_time": "2023-10-05T03:30:25.159828",
          "exception": false,
          "start_time": "2023-10-05T03:30:25.154802",
          "status": "completed"
        },
        "tags": [],
        "id": "758ee1ae"
      },
      "source": [
        "\n",
        "# Work in this notebook\n",
        "\n",
        "- Train a Random Forest classifier (as well as gradient boost classifier) and use the above work to validate and create a submission.\n",
        "- Use the Polars library to load and transform the CMI dataset and incorporate features inspired by the work done in my [Sleep Data Exploration](https://www.kaggle.com/code/lccburk/sleep-data-exploration) notebook.\n",
        "- Import and implement the [Event Detection AP](https://www.kaggle.com/code/metric/event-detection-ap/notebook) score function to validate results prior to submission.\n",
        "- Define helper functions to create training sets and formatted submissions based on classifier results.\n",
        "\n",
        "\n"
      ]
    },
    {
      "cell_type": "code",
      "execution_count": null,
      "id": "227cb13f",
      "metadata": {
        "_cell_guid": "b1076dfc-b9ad-4769-8c92-a6c4dae69d19",
        "_uuid": "8f2839f25d086af736a60e9eeb907d3b93b6e0e5",
        "execution": {
          "iopub.execute_input": "2023-10-05T03:30:25.170713Z",
          "iopub.status.busy": "2023-10-05T03:30:25.170170Z",
          "iopub.status.idle": "2023-10-05T03:30:26.505794Z",
          "shell.execute_reply": "2023-10-05T03:30:26.504686Z"
        },
        "papermill": {
          "duration": 1.344528,
          "end_time": "2023-10-05T03:30:26.508944",
          "exception": false,
          "start_time": "2023-10-05T03:30:25.164416",
          "status": "completed"
        },
        "tags": [],
        "id": "227cb13f"
      },
      "outputs": [],
      "source": [
        "import numpy as np\n",
        "import pandas as pd\n",
        "import matplotlib.pyplot as plt\n",
        "import polars as pl\n",
        "import datetime\n",
        "from tqdm import tqdm\n",
        "\n",
        "import plotly.express as px\n",
        "from plotly.subplots import make_subplots\n",
        "import plotly.graph_objects as go\n",
        "\n",
        "from metric import score # Import event detection ap score function\n",
        "\n",
        "# These are variables to be used by the score function\n",
        "column_names = {\n",
        "    'series_id_column_name': 'series_id',\n",
        "    'time_column_name': 'step',\n",
        "    'event_column_name': 'event',\n",
        "    'score_column_name': 'score',\n",
        "}\n",
        "\n",
        "tolerances = {\n",
        "    'onset': [12, 36, 60, 90, 120, 150, 180, 240, 300, 360],\n",
        "    'wakeup': [12, 36, 60, 90, 120, 150, 180, 240, 300, 360]\n",
        "}"
      ]
    },
    {
      "cell_type": "markdown",
      "id": "68a4536c",
      "metadata": {
        "papermill": {
          "duration": 0.005045,
          "end_time": "2023-10-05T03:30:26.522493",
          "exception": false,
          "start_time": "2023-10-05T03:30:26.517448",
          "status": "completed"
        },
        "tags": [],
        "id": "68a4536c"
      },
      "source": [
        "## Importing data"
      ]
    },
    {
      "cell_type": "code",
      "execution_count": null,
      "id": "b47def8d",
      "metadata": {
        "execution": {
          "iopub.execute_input": "2023-10-05T03:30:26.533759Z",
          "iopub.status.busy": "2023-10-05T03:30:26.532574Z",
          "iopub.status.idle": "2023-10-05T03:30:26.881372Z",
          "shell.execute_reply": "2023-10-05T03:30:26.880297Z"
        },
        "papermill": {
          "duration": 0.357586,
          "end_time": "2023-10-05T03:30:26.884473",
          "exception": false,
          "start_time": "2023-10-05T03:30:26.526887",
          "status": "completed"
        },
        "tags": [],
        "id": "b47def8d"
      },
      "outputs": [],
      "source": [
        "# Importing data\n",
        "\n",
        "# Column transformations\n",
        "\n",
        "dt_transforms = [\n",
        "    pl.col('timestamp').str.to_datetime(),\n",
        "    (pl.col('timestamp').str.to_datetime().dt.year()-2000).cast(pl.UInt8).alias('year'),\n",
        "    pl.col('timestamp').str.to_datetime().dt.month().cast(pl.UInt8).alias('month'),\n",
        "    pl.col('timestamp').str.to_datetime().dt.day().cast(pl.UInt8).alias('day'),\n",
        "    pl.col('timestamp').str.to_datetime().dt.hour().cast(pl.UInt8).alias('hour')\n",
        "]\n",
        "\n",
        "data_transforms = [\n",
        "    pl.col('anglez').cast(pl.Int16), # Casting anglez to 16 bit integer\n",
        "    (pl.col('enmo')*1000).cast(pl.UInt16), # Convert enmo to 16 bit uint\n",
        "]\n",
        "\n",
        "train_series = pl.scan_parquet('/kaggle/input/child-mind-institute-detect-sleep-states/train_series.parquet').with_columns(\n",
        "    dt_transforms + data_transforms\n",
        "    )\n",
        "\n",
        "train_events = pl.read_csv('/kaggle/input/child-mind-institute-detect-sleep-states/train_events.csv').with_columns(\n",
        "    dt_transforms\n",
        "    ).drop_nulls()\n",
        "\n",
        "test_series = pl.scan_parquet('/kaggle/input/child-mind-institute-detect-sleep-states/test_series.parquet').with_columns(\n",
        "    dt_transforms + data_transforms\n",
        "    )\n",
        "\n",
        "# Removing null events and nights with mismatched counts from series_events\n",
        "mismatches = train_events.drop_nulls().group_by(['series_id', 'night']).agg([\n",
        "    ((pl.col('event') == 'onset').sum() == (pl.col('event') == 'wakeup').sum()).alias('balanced')\n",
        "    ]).sort(by=['series_id', 'night']).filter(~pl.col('balanced'))\n",
        "\n",
        "for mm in mismatches.to_numpy():\n",
        "    train_events = train_events.filter(~((pl.col('series_id') == mm[0]) & (pl.col('night') == mm[1])))\n",
        "\n",
        "# Getting series ids as a list for convenience\n",
        "series_ids = train_events['series_id'].unique(maintain_order=True).to_list()\n",
        "\n",
        "# Updating train_series to only keep these series ids\n",
        "train_series = train_series.filter(pl.col('series_id').is_in(series_ids))"
      ]
    },
    {
      "cell_type": "markdown",
      "id": "57ba326f",
      "metadata": {
        "papermill": {
          "duration": 0.006224,
          "end_time": "2023-10-05T03:30:26.899115",
          "exception": false,
          "start_time": "2023-10-05T03:30:26.892891",
          "status": "completed"
        },
        "tags": [],
        "id": "57ba326f"
      },
      "source": [
        "## Feature Engineering\n",
        "\n",
        "The features in this model will consist of\n",
        "- The current`hour`.\n",
        "- Rolling aggregates (mean, max, std) of `anglez` and `enmo` over a variety of window sizes, from 5 minutes to 8 hours.\n",
        "- Rolling aggregates (mean, max, std) of `anglez` and `enmo` [**total variation**](https://en.wikipedia.org/wiki/Total_variation) (or *first variation*, i.e. 1v) over a variety of window sizes, from 5 minutes to 8 hours.\n",
        "\n",
        "#### Motivation for using total variation\n",
        "\n",
        "From my earlier [Data Exploration](https://www.kaggle.com/code/lccburk/sleep-data-exploration) we observe that during sleeping periods `anglez` resembles a pure [jump process](https://en.wikipedia.org/wiki/Jump_process), while during wakeful periods it resembles a [diffusion process](https://en.wikipedia.org/wiki/Diffusion_process), as shown in the following data sample:\n",
        "\n",
        "<img src=\"https://media.licdn.com/dms/image/D5612AQHondzoUGc1tA/article-inline_image-shrink_1000_1488/0/1695767830342?e=1701907200&v=beta&t=3Zf5RuZpGNGHUyAl7g-B7J9ftZaQrGPze4l1XegKkpU\" width=\"800\" />\n",
        "\n",
        "Importantly, jump and diffusion processes can be distinguished by what is known as their [**total variation**](https://en.wikipedia.org/wiki/Total_variation) - essentially, the sum total of the absolute differences between the points. For diffusion processes, which jiggle around constantly, the total variation is infinite, while for jump processes, which only change by finite amounts a countable number of times, the total variation is finite.\n",
        "\n",
        "<img src=\"https://media.licdn.com/dms/image/D5612AQGNsJtKsGREyQ/article-inline_image-shrink_1500_2232/0/1696293678614?e=1701907200&v=beta&t=iTZutqlUHm7pvv-d1pKAHoAYO5Va9Z_1Tjjee3B4dgg\" width=\"650\" />\n",
        "\n",
        "For non-continuous, evenly sampled functions such as our time series, the total variation of a function $f(t)$ on an interval $[a,b]$ can be defined simply as\n",
        "\n",
        "$$V_a^b(f) := \\sum_{j=0}^{n-1} |f(t_{j+1}) - f(t_j)|$$\n",
        "\n",
        "where $t_0=a$, $t_n=b$, and $\\forall j: t_{j+1}-t_j = \\frac{a-b}{n}$. This can be calculated efficiently using Polars' built in `.diff()` and `.abs()` functions.\n",
        "\n",
        "These features will give the classification model information which characterizes the stochastic behavior of the variable in the recent past, which can be much more useful for classifying sleep state than the variable value itself."
      ]
    },
    {
      "cell_type": "code",
      "execution_count": null,
      "id": "5cecd351",
      "metadata": {
        "execution": {
          "iopub.execute_input": "2023-10-05T03:30:26.910386Z",
          "iopub.status.busy": "2023-10-05T03:30:26.909606Z",
          "iopub.status.idle": "2023-10-05T03:30:26.930594Z",
          "shell.execute_reply": "2023-10-05T03:30:26.929531Z"
        },
        "papermill": {
          "duration": 0.029337,
          "end_time": "2023-10-05T03:30:26.932878",
          "exception": false,
          "start_time": "2023-10-05T03:30:26.903541",
          "status": "completed"
        },
        "tags": [],
        "id": "5cecd351"
      },
      "outputs": [],
      "source": [
        "features, feature_cols = [pl.col('hour')], ['hour']\n",
        "\n",
        "for mins in [5, 30, 60*2, 60*8] :\n",
        "\n",
        "    for var in ['enmo', 'anglez'] :\n",
        "\n",
        "        features += [\n",
        "            pl.col(var).rolling_mean(12 * mins, center=True, min_periods=1).abs().cast(pl.UInt16).alias(f'{var}_{mins}m_mean'),\n",
        "            pl.col(var).rolling_max(12 * mins, center=True, min_periods=1).abs().cast(pl.UInt16).alias(f'{var}_{mins}m_max'),\n",
        "            pl.col(var).rolling_std(12 * mins, center=True, min_periods=1).abs().cast(pl.UInt16).alias(f'{var}_{mins}m_std')\n",
        "        ]\n",
        "\n",
        "        feature_cols += [\n",
        "            f'{var}_{mins}m_mean', f'{var}_{mins}m_max', f'{var}_{mins}m_std'\n",
        "        ]\n",
        "\n",
        "        # Getting first variations\n",
        "        features += [\n",
        "            (pl.col(var).diff().abs().rolling_mean(12 * mins, center=True, min_periods=1)*10).abs().cast(pl.UInt32).alias(f'{var}_1v_{mins}m_mean'),\n",
        "            (pl.col(var).diff().abs().rolling_max(12 * mins, center=True, min_periods=1)*10).abs().cast(pl.UInt32).alias(f'{var}_1v_{mins}m_max'),\n",
        "            (pl.col(var).diff().abs().rolling_std(12 * mins, center=True, min_periods=1)*10).abs().cast(pl.UInt32).alias(f'{var}_1v_{mins}m_std')\n",
        "        ]\n",
        "\n",
        "        feature_cols += [\n",
        "            f'{var}_1v_{mins}m_mean', f'{var}_1v_{mins}m_max', f'{var}_1v_{mins}m_std'\n",
        "        ]\n",
        "\n",
        "id_cols = ['series_id', 'step', 'timestamp']\n",
        "\n",
        "train_series = train_series.with_columns(\n",
        "    features\n",
        ").select(id_cols + feature_cols)\n",
        "\n",
        "test_series = test_series.with_columns(\n",
        "    features\n",
        ").select(id_cols + feature_cols)"
      ]
    },
    {
      "cell_type": "code",
      "execution_count": null,
      "id": "e700c73d",
      "metadata": {
        "execution": {
          "iopub.execute_input": "2023-10-05T03:30:26.944718Z",
          "iopub.status.busy": "2023-10-05T03:30:26.943978Z",
          "iopub.status.idle": "2023-10-05T03:30:26.956747Z",
          "shell.execute_reply": "2023-10-05T03:30:26.955773Z"
        },
        "papermill": {
          "duration": 0.021182,
          "end_time": "2023-10-05T03:30:26.958797",
          "exception": false,
          "start_time": "2023-10-05T03:30:26.937615",
          "status": "completed"
        },
        "tags": [],
        "id": "e700c73d"
      },
      "outputs": [],
      "source": [
        "def make_train_dataset(train_data, train_events, drop_nulls=False) :\n",
        "\n",
        "    series_ids = train_data['series_id'].unique(maintain_order=True).to_list()\n",
        "    X, y = pl.DataFrame(), pl.DataFrame()\n",
        "    for idx in tqdm(series_ids) :\n",
        "\n",
        "        # Normalizing sample features\n",
        "        sample = train_data.filter(pl.col('series_id')==idx).with_columns(\n",
        "            [(pl.col(col) / pl.col(col).std()).cast(pl.Float32) for col in feature_cols if col != 'hour']\n",
        "        )\n",
        "\n",
        "        events = train_events.filter(pl.col('series_id')==idx)\n",
        "\n",
        "        if drop_nulls :\n",
        "            # Removing datapoints on dates where no data was recorded\n",
        "            sample = sample.filter(\n",
        "                pl.col('timestamp').dt.date().is_in(events['timestamp'].dt.date())\n",
        "            )\n",
        "\n",
        "        X = X.vstack(sample[id_cols + feature_cols])\n",
        "\n",
        "        onsets = events.filter((pl.col('event') == 'onset') & (pl.col('step') != None))['step'].to_list()\n",
        "        wakeups = events.filter((pl.col('event') == 'wakeup') & (pl.col('step') != None))['step'].to_list()\n",
        "\n",
        "        # NOTE: This will break if there are event series without any recorded onsets or wakeups\n",
        "        y = y.vstack(sample.with_columns(\n",
        "            sum([(onset <= pl.col('step')) & (pl.col('step') <= wakeup) for onset, wakeup in zip(onsets, wakeups)]).cast(pl.Boolean).alias('asleep')\n",
        "            ).select('asleep')\n",
        "            )\n",
        "\n",
        "    y = y.to_numpy().ravel()\n",
        "\n",
        "    return X, y"
      ]
    },
    {
      "cell_type": "code",
      "execution_count": null,
      "id": "5cdd419d",
      "metadata": {
        "execution": {
          "iopub.execute_input": "2023-10-05T03:30:26.970323Z",
          "iopub.status.busy": "2023-10-05T03:30:26.969618Z",
          "iopub.status.idle": "2023-10-05T03:30:26.988187Z",
          "shell.execute_reply": "2023-10-05T03:30:26.987123Z"
        },
        "papermill": {
          "duration": 0.026799,
          "end_time": "2023-10-05T03:30:26.990374",
          "exception": false,
          "start_time": "2023-10-05T03:30:26.963575",
          "status": "completed"
        },
        "tags": [],
        "id": "5cdd419d"
      },
      "outputs": [],
      "source": [
        "def get_events(series, classifier) :\n",
        "    '''\n",
        "    Takes a time series and a classifier and returns a formatted submission dataframe.\n",
        "    '''\n",
        "\n",
        "    series_ids = series['series_id'].unique(maintain_order=True).to_list()\n",
        "    events = pl.DataFrame(schema={'series_id':str, 'step':int, 'event':str, 'score':float})\n",
        "\n",
        "    for idx in tqdm(series_ids) :\n",
        "\n",
        "        # Collecting sample and normalizing features\n",
        "        scale_cols = [col for col in feature_cols if (col != 'hour') & (series[col].std() !=0)]\n",
        "        X = series.filter(pl.col('series_id') == idx).select(id_cols + feature_cols).with_columns(\n",
        "            [(pl.col(col) / series[col].std()).cast(pl.Float32) for col in scale_cols]\n",
        "        )\n",
        "\n",
        "        # Applying classifier to get predictions and scores\n",
        "        preds, probs = classifier.predict(X[feature_cols]), classifier.predict_proba(X[feature_cols])[:, 1]\n",
        "\n",
        "        #NOTE: Considered using rolling max to get sleep periods excluding <30 min interruptions, but ended up decreasing performance\n",
        "        X = X.with_columns(\n",
        "            pl.lit(preds).cast(pl.Int8).alias('prediction'),\n",
        "            pl.lit(probs).alias('probability')\n",
        "                        )\n",
        "\n",
        "        # Getting predicted onset and wakeup time steps\n",
        "        pred_onsets = X.filter(X['prediction'].diff() > 0)['step'].to_list()\n",
        "        pred_wakeups = X.filter(X['prediction'].diff() < 0)['step'].to_list()\n",
        "\n",
        "        if len(pred_onsets) > 0 :\n",
        "\n",
        "            # Ensuring all predicted sleep periods begin and end\n",
        "            if min(pred_wakeups) < min(pred_onsets) :\n",
        "                pred_wakeups = pred_wakeups[1:]\n",
        "\n",
        "            if max(pred_onsets) > max(pred_wakeups) :\n",
        "                pred_onsets = pred_onsets[:-1]\n",
        "\n",
        "            # Keeping sleep periods longer than 30 minutes\n",
        "            sleep_periods = [(onset, wakeup) for onset, wakeup in zip(pred_onsets, pred_wakeups) if wakeup - onset >= 12 * 30]\n",
        "\n",
        "            for onset, wakeup in sleep_periods :\n",
        "                # Scoring using mean probability over period\n",
        "                score = X.filter((pl.col('step') >= onset) & (pl.col('step') <= wakeup))['probability'].mean()\n",
        "\n",
        "                # Adding sleep event to dataframe\n",
        "                events = events.vstack(pl.DataFrame().with_columns(\n",
        "                    pl.Series([idx, idx]).alias('series_id'),\n",
        "                    pl.Series([onset, wakeup]).alias('step'),\n",
        "                    pl.Series(['onset', 'wakeup']).alias('event'),\n",
        "                    pl.Series([score, score]).alias('score')\n",
        "                ))\n",
        "\n",
        "    # Adding row id column\n",
        "    events = events.to_pandas().reset_index().rename(columns={'index':'row_id'})\n",
        "\n",
        "    return events"
      ]
    },
    {
      "cell_type": "markdown",
      "id": "fd8f99d7",
      "metadata": {
        "papermill": {
          "duration": 0.004216,
          "end_time": "2023-10-05T03:30:26.999425",
          "exception": false,
          "start_time": "2023-10-05T03:30:26.995209",
          "status": "completed"
        },
        "tags": [],
        "id": "fd8f99d7"
      },
      "source": [
        "## Training Models"
      ]
    },
    {
      "cell_type": "code",
      "execution_count": null,
      "id": "8a659e1b",
      "metadata": {
        "execution": {
          "iopub.execute_input": "2023-10-05T03:30:27.009727Z",
          "iopub.status.busy": "2023-10-05T03:30:27.009402Z",
          "iopub.status.idle": "2023-10-05T03:34:33.922418Z",
          "shell.execute_reply": "2023-10-05T03:34:33.921306Z"
        },
        "papermill": {
          "duration": 246.921099,
          "end_time": "2023-10-05T03:34:33.924879",
          "exception": false,
          "start_time": "2023-10-05T03:30:27.003780",
          "status": "completed"
        },
        "tags": [],
        "id": "8a659e1b"
      },
      "outputs": [],
      "source": [
        "'''\n",
        "from sklearn.model_selection import train_test_split\n",
        "\n",
        "train_ids, val_ids = train_test_split(series_ids, train_size=0.7, random_state=42)\n",
        "\n",
        "# We will collect datapoints at 10 minute intervals for training for validating\n",
        "train_data = train_series.filter(pl.col('series_id').is_in(train_ids)).take_every(12 * 10).collect()\n",
        "\n",
        "val_data = train_series.filter(pl.col('series_id').is_in(val_ids)).collect()\n",
        "val_solution = train_events.filter(pl.col('series_id').is_in(val_ids)).select(['series_id', 'event', 'step']).to_pandas()\n",
        "'''\n",
        "# Collecting datapoints at every 5 minutes\n",
        "train_data = train_series.filter(pl.col('series_id').is_in(series_ids)).take_every(12 * 5).collect()\n"
      ]
    },
    {
      "cell_type": "code",
      "execution_count": null,
      "id": "c85fb0ce",
      "metadata": {
        "execution": {
          "iopub.execute_input": "2023-10-05T03:34:33.936700Z",
          "iopub.status.busy": "2023-10-05T03:34:33.936323Z",
          "iopub.status.idle": "2023-10-05T03:34:42.427787Z",
          "shell.execute_reply": "2023-10-05T03:34:42.426716Z"
        },
        "papermill": {
          "duration": 8.500436,
          "end_time": "2023-10-05T03:34:42.430678",
          "exception": false,
          "start_time": "2023-10-05T03:34:33.930242",
          "status": "completed"
        },
        "tags": [],
        "id": "c85fb0ce",
        "outputId": "915980cf-d426-412d-e7b8-2d35ecdaa6bb"
      },
      "outputs": [
        {
          "name": "stderr",
          "output_type": "stream",
          "text": [
            "100%|██████████| 269/269 [00:08<00:00, 31.89it/s]\n"
          ]
        }
      ],
      "source": [
        "# Creating train dataset\n",
        "X_train, y_train = make_train_dataset(train_data, train_events)"
      ]
    },
    {
      "cell_type": "markdown",
      "id": "676c8da4",
      "metadata": {
        "papermill": {
          "duration": 0.007892,
          "end_time": "2023-10-05T03:34:42.447202",
          "exception": false,
          "start_time": "2023-10-05T03:34:42.439310",
          "status": "completed"
        },
        "tags": [],
        "id": "676c8da4"
      },
      "source": [
        "### Training and validating random forest"
      ]
    },
    {
      "cell_type": "code",
      "execution_count": null,
      "id": "72d36f41",
      "metadata": {
        "execution": {
          "iopub.execute_input": "2023-10-05T03:34:42.465002Z",
          "iopub.status.busy": "2023-10-05T03:34:42.464678Z",
          "iopub.status.idle": "2023-10-05T04:58:06.000763Z",
          "shell.execute_reply": "2023-10-05T04:58:05.999195Z"
        },
        "papermill": {
          "duration": 5003.55615,
          "end_time": "2023-10-05T04:58:06.011461",
          "exception": false,
          "start_time": "2023-10-05T03:34:42.455311",
          "status": "completed"
        },
        "tags": [],
        "id": "72d36f41",
        "outputId": "7e8e77f9-019d-49fc-f6d4-2b5ff9828410"
      },
      "outputs": [
        {
          "data": {
            "text/html": [
              "<style>#sk-container-id-1 {color: black;background-color: white;}#sk-container-id-1 pre{padding: 0;}#sk-container-id-1 div.sk-toggleable {background-color: white;}#sk-container-id-1 label.sk-toggleable__label {cursor: pointer;display: block;width: 100%;margin-bottom: 0;padding: 0.3em;box-sizing: border-box;text-align: center;}#sk-container-id-1 label.sk-toggleable__label-arrow:before {content: \"▸\";float: left;margin-right: 0.25em;color: #696969;}#sk-container-id-1 label.sk-toggleable__label-arrow:hover:before {color: black;}#sk-container-id-1 div.sk-estimator:hover label.sk-toggleable__label-arrow:before {color: black;}#sk-container-id-1 div.sk-toggleable__content {max-height: 0;max-width: 0;overflow: hidden;text-align: left;background-color: #f0f8ff;}#sk-container-id-1 div.sk-toggleable__content pre {margin: 0.2em;color: black;border-radius: 0.25em;background-color: #f0f8ff;}#sk-container-id-1 input.sk-toggleable__control:checked~div.sk-toggleable__content {max-height: 200px;max-width: 100%;overflow: auto;}#sk-container-id-1 input.sk-toggleable__control:checked~label.sk-toggleable__label-arrow:before {content: \"▾\";}#sk-container-id-1 div.sk-estimator input.sk-toggleable__control:checked~label.sk-toggleable__label {background-color: #d4ebff;}#sk-container-id-1 div.sk-label input.sk-toggleable__control:checked~label.sk-toggleable__label {background-color: #d4ebff;}#sk-container-id-1 input.sk-hidden--visually {border: 0;clip: rect(1px 1px 1px 1px);clip: rect(1px, 1px, 1px, 1px);height: 1px;margin: -1px;overflow: hidden;padding: 0;position: absolute;width: 1px;}#sk-container-id-1 div.sk-estimator {font-family: monospace;background-color: #f0f8ff;border: 1px dotted black;border-radius: 0.25em;box-sizing: border-box;margin-bottom: 0.5em;}#sk-container-id-1 div.sk-estimator:hover {background-color: #d4ebff;}#sk-container-id-1 div.sk-parallel-item::after {content: \"\";width: 100%;border-bottom: 1px solid gray;flex-grow: 1;}#sk-container-id-1 div.sk-label:hover label.sk-toggleable__label {background-color: #d4ebff;}#sk-container-id-1 div.sk-serial::before {content: \"\";position: absolute;border-left: 1px solid gray;box-sizing: border-box;top: 0;bottom: 0;left: 50%;z-index: 0;}#sk-container-id-1 div.sk-serial {display: flex;flex-direction: column;align-items: center;background-color: white;padding-right: 0.2em;padding-left: 0.2em;position: relative;}#sk-container-id-1 div.sk-item {position: relative;z-index: 1;}#sk-container-id-1 div.sk-parallel {display: flex;align-items: stretch;justify-content: center;background-color: white;position: relative;}#sk-container-id-1 div.sk-item::before, #sk-container-id-1 div.sk-parallel-item::before {content: \"\";position: absolute;border-left: 1px solid gray;box-sizing: border-box;top: 0;bottom: 0;left: 50%;z-index: -1;}#sk-container-id-1 div.sk-parallel-item {display: flex;flex-direction: column;z-index: 1;position: relative;background-color: white;}#sk-container-id-1 div.sk-parallel-item:first-child::after {align-self: flex-end;width: 50%;}#sk-container-id-1 div.sk-parallel-item:last-child::after {align-self: flex-start;width: 50%;}#sk-container-id-1 div.sk-parallel-item:only-child::after {width: 0;}#sk-container-id-1 div.sk-dashed-wrapped {border: 1px dashed gray;margin: 0 0.4em 0.5em 0.4em;box-sizing: border-box;padding-bottom: 0.4em;background-color: white;}#sk-container-id-1 div.sk-label label {font-family: monospace;font-weight: bold;display: inline-block;line-height: 1.2em;}#sk-container-id-1 div.sk-label-container {text-align: center;}#sk-container-id-1 div.sk-container {/* jupyter's `normalize.less` sets `[hidden] { display: none; }` but bootstrap.min.css set `[hidden] { display: none !important; }` so we also need the `!important` here to be able to override the default hidden behavior on the sphinx rendered scikit-learn.org. See: https://github.com/scikit-learn/scikit-learn/issues/21755 */display: inline-block !important;position: relative;}#sk-container-id-1 div.sk-text-repr-fallback {display: none;}</style><div id=\"sk-container-id-1\" class=\"sk-top-container\"><div class=\"sk-text-repr-fallback\"><pre>RandomForestClassifier(min_samples_leaf=25, n_estimators=500, n_jobs=-1,\n",
              "                       random_state=42)</pre><b>In a Jupyter environment, please rerun this cell to show the HTML representation or trust the notebook. <br />On GitHub, the HTML representation is unable to render, please try loading this page with nbviewer.org.</b></div><div class=\"sk-container\" hidden><div class=\"sk-item\"><div class=\"sk-estimator sk-toggleable\"><input class=\"sk-toggleable__control sk-hidden--visually\" id=\"sk-estimator-id-1\" type=\"checkbox\" checked><label for=\"sk-estimator-id-1\" class=\"sk-toggleable__label sk-toggleable__label-arrow\">RandomForestClassifier</label><div class=\"sk-toggleable__content\"><pre>RandomForestClassifier(min_samples_leaf=25, n_estimators=500, n_jobs=-1,\n",
              "                       random_state=42)</pre></div></div></div></div></div>"
            ],
            "text/plain": [
              "RandomForestClassifier(min_samples_leaf=25, n_estimators=500, n_jobs=-1,\n",
              "                       random_state=42)"
            ]
          },
          "execution_count": 8,
          "metadata": {},
          "output_type": "execute_result"
        }
      ],
      "source": [
        "from sklearn.ensemble import RandomForestClassifier\n",
        "\n",
        "rf_classifier = RandomForestClassifier(random_state=42)\n",
        "\n",
        "# Training classifier\n",
        "rf_classifier = RandomForestClassifier(n_estimators=500,\n",
        "                                    min_samples_leaf=25,\n",
        "                                    random_state=42,\n",
        "                                    n_jobs=-1)\n",
        "\n",
        "rf_classifier.fit(X_train[feature_cols], y_train)"
      ]
    },
    {
      "cell_type": "code",
      "execution_count": null,
      "id": "704cc471",
      "metadata": {
        "execution": {
          "iopub.execute_input": "2023-10-05T04:58:06.031406Z",
          "iopub.status.busy": "2023-10-05T04:58:06.030970Z",
          "iopub.status.idle": "2023-10-05T04:58:08.067055Z",
          "shell.execute_reply": "2023-10-05T04:58:08.066105Z"
        },
        "papermill": {
          "duration": 2.049133,
          "end_time": "2023-10-05T04:58:08.069265",
          "exception": false,
          "start_time": "2023-10-05T04:58:06.020132",
          "status": "completed"
        },
        "tags": [],
        "id": "704cc471",
        "outputId": "b6a0f727-2d78-4580-eb41-7b508b8eb513"
      },
      "outputs": [
        {
          "data": {
            "text/html": [
              "        <script type=\"text/javascript\">\n",
              "        window.PlotlyConfig = {MathJaxConfig: 'local'};\n",
              "        if (window.MathJax && window.MathJax.Hub && window.MathJax.Hub.Config) {window.MathJax.Hub.Config({SVG: {font: \"STIX-Web\"}});}\n",
              "        if (typeof require !== 'undefined') {\n",
              "        require.undef(\"plotly\");\n",
              "        requirejs.config({\n",
              "            paths: {\n",
              "                'plotly': ['https://cdn.plot.ly/plotly-2.24.1.min']\n",
              "            }\n",
              "        });\n",
              "        require(['plotly'], function(Plotly) {\n",
              "            window._Plotly = Plotly;\n",
              "        });\n",
              "        }\n",
              "        </script>\n",
              "        "
            ]
          },
          "metadata": {},
          "output_type": "display_data"
        },
        {
          "data": {
            "text/html": [
              "<div>                            <div id=\"6c930b89-d217-43ab-acca-b854ed07155c\" class=\"plotly-graph-div\" style=\"height:525px; width:100%;\"></div>            <script type=\"text/javascript\">                require([\"plotly\"], function(Plotly) {                    window.PLOTLYENV=window.PLOTLYENV || {};                                    if (document.getElementById(\"6c930b89-d217-43ab-acca-b854ed07155c\")) {                    Plotly.newPlot(                        \"6c930b89-d217-43ab-acca-b854ed07155c\",                        [{\"alignmentgroup\":\"True\",\"hovertemplate\":\"x=%{x}\\u003cbr\\u003ey=%{y}\\u003cextra\\u003e\\u003c\\u002fextra\\u003e\",\"legendgroup\":\"\",\"marker\":{\"color\":\"#636efa\",\"pattern\":{\"shape\":\"\"}},\"name\":\"\",\"offsetgroup\":\"\",\"orientation\":\"v\",\"showlegend\":false,\"textposition\":\"auto\",\"x\":[\"hour\",\"enmo_5m_mean\",\"enmo_5m_max\",\"enmo_5m_std\",\"enmo_1v_5m_mean\",\"enmo_1v_5m_max\",\"enmo_1v_5m_std\",\"anglez_5m_mean\",\"anglez_5m_max\",\"anglez_5m_std\",\"anglez_1v_5m_mean\",\"anglez_1v_5m_max\",\"anglez_1v_5m_std\",\"enmo_30m_mean\",\"enmo_30m_max\",\"enmo_30m_std\",\"enmo_1v_30m_mean\",\"enmo_1v_30m_max\",\"enmo_1v_30m_std\",\"anglez_30m_mean\",\"anglez_30m_max\",\"anglez_30m_std\",\"anglez_1v_30m_mean\",\"anglez_1v_30m_max\",\"anglez_1v_30m_std\",\"enmo_120m_mean\",\"enmo_120m_max\",\"enmo_120m_std\",\"enmo_1v_120m_mean\",\"enmo_1v_120m_max\",\"enmo_1v_120m_std\",\"anglez_120m_mean\",\"anglez_120m_max\",\"anglez_120m_std\",\"anglez_1v_120m_mean\",\"anglez_1v_120m_max\",\"anglez_1v_120m_std\",\"enmo_480m_mean\",\"enmo_480m_max\",\"enmo_480m_std\",\"enmo_1v_480m_mean\",\"enmo_1v_480m_max\",\"enmo_1v_480m_std\",\"anglez_480m_mean\",\"anglez_480m_max\",\"anglez_480m_std\",\"anglez_1v_480m_mean\",\"anglez_1v_480m_max\",\"anglez_1v_480m_std\"],\"xaxis\":\"x\",\"y\":[0.02989200175445774,0.00414054503723494,0.0036151035997335134,0.012773448689932182,0.05434266984944543,0.008598929667856954,0.011084341905085218,0.002975582864571844,0.0033107084637970675,0.014915218421939576,0.04376414614991202,0.021639032682217226,0.03288287186189846,0.018772962716929263,0.002635201487999793,0.008906826140078535,0.09649524006329965,0.0019123943033464853,0.007231815205617654,0.0020331763699304203,0.0036076679111706395,0.0040473763834492716,0.07187481869511425,0.013176964922911408,0.0048262573478900835,0.039956560961745345,0.004933345431366509,0.0108140014369619,0.09002158211388268,0.008144021680057218,0.008411834868452579,0.0020550921279368856,0.011177791305565586,0.022448529583610887,0.06963249311191884,0.06319908528877693,0.018606739303632845,0.010671794404656763,0.002313173747083863,0.00233309820736874,0.006207130035690601,0.003011651488748822,0.002079591551787779,0.0023327389472387696,0.014643333746763243,0.04003477031303827,0.013697089508441068,0.04374374338565288,0.030075504953801308],\"yaxis\":\"y\",\"type\":\"bar\"}],                        {\"template\":{\"data\":{\"histogram2dcontour\":[{\"type\":\"histogram2dcontour\",\"colorbar\":{\"outlinewidth\":0,\"ticks\":\"\"},\"colorscale\":[[0.0,\"#0d0887\"],[0.1111111111111111,\"#46039f\"],[0.2222222222222222,\"#7201a8\"],[0.3333333333333333,\"#9c179e\"],[0.4444444444444444,\"#bd3786\"],[0.5555555555555556,\"#d8576b\"],[0.6666666666666666,\"#ed7953\"],[0.7777777777777778,\"#fb9f3a\"],[0.8888888888888888,\"#fdca26\"],[1.0,\"#f0f921\"]]}],\"choropleth\":[{\"type\":\"choropleth\",\"colorbar\":{\"outlinewidth\":0,\"ticks\":\"\"}}],\"histogram2d\":[{\"type\":\"histogram2d\",\"colorbar\":{\"outlinewidth\":0,\"ticks\":\"\"},\"colorscale\":[[0.0,\"#0d0887\"],[0.1111111111111111,\"#46039f\"],[0.2222222222222222,\"#7201a8\"],[0.3333333333333333,\"#9c179e\"],[0.4444444444444444,\"#bd3786\"],[0.5555555555555556,\"#d8576b\"],[0.6666666666666666,\"#ed7953\"],[0.7777777777777778,\"#fb9f3a\"],[0.8888888888888888,\"#fdca26\"],[1.0,\"#f0f921\"]]}],\"heatmap\":[{\"type\":\"heatmap\",\"colorbar\":{\"outlinewidth\":0,\"ticks\":\"\"},\"colorscale\":[[0.0,\"#0d0887\"],[0.1111111111111111,\"#46039f\"],[0.2222222222222222,\"#7201a8\"],[0.3333333333333333,\"#9c179e\"],[0.4444444444444444,\"#bd3786\"],[0.5555555555555556,\"#d8576b\"],[0.6666666666666666,\"#ed7953\"],[0.7777777777777778,\"#fb9f3a\"],[0.8888888888888888,\"#fdca26\"],[1.0,\"#f0f921\"]]}],\"heatmapgl\":[{\"type\":\"heatmapgl\",\"colorbar\":{\"outlinewidth\":0,\"ticks\":\"\"},\"colorscale\":[[0.0,\"#0d0887\"],[0.1111111111111111,\"#46039f\"],[0.2222222222222222,\"#7201a8\"],[0.3333333333333333,\"#9c179e\"],[0.4444444444444444,\"#bd3786\"],[0.5555555555555556,\"#d8576b\"],[0.6666666666666666,\"#ed7953\"],[0.7777777777777778,\"#fb9f3a\"],[0.8888888888888888,\"#fdca26\"],[1.0,\"#f0f921\"]]}],\"contourcarpet\":[{\"type\":\"contourcarpet\",\"colorbar\":{\"outlinewidth\":0,\"ticks\":\"\"}}],\"contour\":[{\"type\":\"contour\",\"colorbar\":{\"outlinewidth\":0,\"ticks\":\"\"},\"colorscale\":[[0.0,\"#0d0887\"],[0.1111111111111111,\"#46039f\"],[0.2222222222222222,\"#7201a8\"],[0.3333333333333333,\"#9c179e\"],[0.4444444444444444,\"#bd3786\"],[0.5555555555555556,\"#d8576b\"],[0.6666666666666666,\"#ed7953\"],[0.7777777777777778,\"#fb9f3a\"],[0.8888888888888888,\"#fdca26\"],[1.0,\"#f0f921\"]]}],\"surface\":[{\"type\":\"surface\",\"colorbar\":{\"outlinewidth\":0,\"ticks\":\"\"},\"colorscale\":[[0.0,\"#0d0887\"],[0.1111111111111111,\"#46039f\"],[0.2222222222222222,\"#7201a8\"],[0.3333333333333333,\"#9c179e\"],[0.4444444444444444,\"#bd3786\"],[0.5555555555555556,\"#d8576b\"],[0.6666666666666666,\"#ed7953\"],[0.7777777777777778,\"#fb9f3a\"],[0.8888888888888888,\"#fdca26\"],[1.0,\"#f0f921\"]]}],\"mesh3d\":[{\"type\":\"mesh3d\",\"colorbar\":{\"outlinewidth\":0,\"ticks\":\"\"}}],\"scatter\":[{\"fillpattern\":{\"fillmode\":\"overlay\",\"size\":10,\"solidity\":0.2},\"type\":\"scatter\"}],\"parcoords\":[{\"type\":\"parcoords\",\"line\":{\"colorbar\":{\"outlinewidth\":0,\"ticks\":\"\"}}}],\"scatterpolargl\":[{\"type\":\"scatterpolargl\",\"marker\":{\"colorbar\":{\"outlinewidth\":0,\"ticks\":\"\"}}}],\"bar\":[{\"error_x\":{\"color\":\"#2a3f5f\"},\"error_y\":{\"color\":\"#2a3f5f\"},\"marker\":{\"line\":{\"color\":\"#E5ECF6\",\"width\":0.5},\"pattern\":{\"fillmode\":\"overlay\",\"size\":10,\"solidity\":0.2}},\"type\":\"bar\"}],\"scattergeo\":[{\"type\":\"scattergeo\",\"marker\":{\"colorbar\":{\"outlinewidth\":0,\"ticks\":\"\"}}}],\"scatterpolar\":[{\"type\":\"scatterpolar\",\"marker\":{\"colorbar\":{\"outlinewidth\":0,\"ticks\":\"\"}}}],\"histogram\":[{\"marker\":{\"pattern\":{\"fillmode\":\"overlay\",\"size\":10,\"solidity\":0.2}},\"type\":\"histogram\"}],\"scattergl\":[{\"type\":\"scattergl\",\"marker\":{\"colorbar\":{\"outlinewidth\":0,\"ticks\":\"\"}}}],\"scatter3d\":[{\"type\":\"scatter3d\",\"line\":{\"colorbar\":{\"outlinewidth\":0,\"ticks\":\"\"}},\"marker\":{\"colorbar\":{\"outlinewidth\":0,\"ticks\":\"\"}}}],\"scattermapbox\":[{\"type\":\"scattermapbox\",\"marker\":{\"colorbar\":{\"outlinewidth\":0,\"ticks\":\"\"}}}],\"scatterternary\":[{\"type\":\"scatterternary\",\"marker\":{\"colorbar\":{\"outlinewidth\":0,\"ticks\":\"\"}}}],\"scattercarpet\":[{\"type\":\"scattercarpet\",\"marker\":{\"colorbar\":{\"outlinewidth\":0,\"ticks\":\"\"}}}],\"carpet\":[{\"aaxis\":{\"endlinecolor\":\"#2a3f5f\",\"gridcolor\":\"white\",\"linecolor\":\"white\",\"minorgridcolor\":\"white\",\"startlinecolor\":\"#2a3f5f\"},\"baxis\":{\"endlinecolor\":\"#2a3f5f\",\"gridcolor\":\"white\",\"linecolor\":\"white\",\"minorgridcolor\":\"white\",\"startlinecolor\":\"#2a3f5f\"},\"type\":\"carpet\"}],\"table\":[{\"cells\":{\"fill\":{\"color\":\"#EBF0F8\"},\"line\":{\"color\":\"white\"}},\"header\":{\"fill\":{\"color\":\"#C8D4E3\"},\"line\":{\"color\":\"white\"}},\"type\":\"table\"}],\"barpolar\":[{\"marker\":{\"line\":{\"color\":\"#E5ECF6\",\"width\":0.5},\"pattern\":{\"fillmode\":\"overlay\",\"size\":10,\"solidity\":0.2}},\"type\":\"barpolar\"}],\"pie\":[{\"automargin\":true,\"type\":\"pie\"}]},\"layout\":{\"autotypenumbers\":\"strict\",\"colorway\":[\"#636efa\",\"#EF553B\",\"#00cc96\",\"#ab63fa\",\"#FFA15A\",\"#19d3f3\",\"#FF6692\",\"#B6E880\",\"#FF97FF\",\"#FECB52\"],\"font\":{\"color\":\"#2a3f5f\"},\"hovermode\":\"closest\",\"hoverlabel\":{\"align\":\"left\"},\"paper_bgcolor\":\"white\",\"plot_bgcolor\":\"#E5ECF6\",\"polar\":{\"bgcolor\":\"#E5ECF6\",\"angularaxis\":{\"gridcolor\":\"white\",\"linecolor\":\"white\",\"ticks\":\"\"},\"radialaxis\":{\"gridcolor\":\"white\",\"linecolor\":\"white\",\"ticks\":\"\"}},\"ternary\":{\"bgcolor\":\"#E5ECF6\",\"aaxis\":{\"gridcolor\":\"white\",\"linecolor\":\"white\",\"ticks\":\"\"},\"baxis\":{\"gridcolor\":\"white\",\"linecolor\":\"white\",\"ticks\":\"\"},\"caxis\":{\"gridcolor\":\"white\",\"linecolor\":\"white\",\"ticks\":\"\"}},\"coloraxis\":{\"colorbar\":{\"outlinewidth\":0,\"ticks\":\"\"}},\"colorscale\":{\"sequential\":[[0.0,\"#0d0887\"],[0.1111111111111111,\"#46039f\"],[0.2222222222222222,\"#7201a8\"],[0.3333333333333333,\"#9c179e\"],[0.4444444444444444,\"#bd3786\"],[0.5555555555555556,\"#d8576b\"],[0.6666666666666666,\"#ed7953\"],[0.7777777777777778,\"#fb9f3a\"],[0.8888888888888888,\"#fdca26\"],[1.0,\"#f0f921\"]],\"sequentialminus\":[[0.0,\"#0d0887\"],[0.1111111111111111,\"#46039f\"],[0.2222222222222222,\"#7201a8\"],[0.3333333333333333,\"#9c179e\"],[0.4444444444444444,\"#bd3786\"],[0.5555555555555556,\"#d8576b\"],[0.6666666666666666,\"#ed7953\"],[0.7777777777777778,\"#fb9f3a\"],[0.8888888888888888,\"#fdca26\"],[1.0,\"#f0f921\"]],\"diverging\":[[0,\"#8e0152\"],[0.1,\"#c51b7d\"],[0.2,\"#de77ae\"],[0.3,\"#f1b6da\"],[0.4,\"#fde0ef\"],[0.5,\"#f7f7f7\"],[0.6,\"#e6f5d0\"],[0.7,\"#b8e186\"],[0.8,\"#7fbc41\"],[0.9,\"#4d9221\"],[1,\"#276419\"]]},\"xaxis\":{\"gridcolor\":\"white\",\"linecolor\":\"white\",\"ticks\":\"\",\"title\":{\"standoff\":15},\"zerolinecolor\":\"white\",\"automargin\":true,\"zerolinewidth\":2},\"yaxis\":{\"gridcolor\":\"white\",\"linecolor\":\"white\",\"ticks\":\"\",\"title\":{\"standoff\":15},\"zerolinecolor\":\"white\",\"automargin\":true,\"zerolinewidth\":2},\"scene\":{\"xaxis\":{\"backgroundcolor\":\"#E5ECF6\",\"gridcolor\":\"white\",\"linecolor\":\"white\",\"showbackground\":true,\"ticks\":\"\",\"zerolinecolor\":\"white\",\"gridwidth\":2},\"yaxis\":{\"backgroundcolor\":\"#E5ECF6\",\"gridcolor\":\"white\",\"linecolor\":\"white\",\"showbackground\":true,\"ticks\":\"\",\"zerolinecolor\":\"white\",\"gridwidth\":2},\"zaxis\":{\"backgroundcolor\":\"#E5ECF6\",\"gridcolor\":\"white\",\"linecolor\":\"white\",\"showbackground\":true,\"ticks\":\"\",\"zerolinecolor\":\"white\",\"gridwidth\":2}},\"shapedefaults\":{\"line\":{\"color\":\"#2a3f5f\"}},\"annotationdefaults\":{\"arrowcolor\":\"#2a3f5f\",\"arrowhead\":0,\"arrowwidth\":1},\"geo\":{\"bgcolor\":\"white\",\"landcolor\":\"#E5ECF6\",\"subunitcolor\":\"white\",\"showland\":true,\"showlakes\":true,\"lakecolor\":\"white\"},\"title\":{\"x\":0.05},\"mapbox\":{\"style\":\"light\"}}},\"xaxis\":{\"anchor\":\"y\",\"domain\":[0.0,1.0],\"title\":{\"text\":\"x\"}},\"yaxis\":{\"anchor\":\"x\",\"domain\":[0.0,1.0],\"title\":{\"text\":\"y\"}},\"legend\":{\"tracegroupgap\":0},\"title\":{\"text\":\"Random forest feature importances\"},\"barmode\":\"relative\"},                        {\"responsive\": true}                    ).then(function(){\n",
              "                            \n",
              "var gd = document.getElementById('6c930b89-d217-43ab-acca-b854ed07155c');\n",
              "var x = new MutationObserver(function (mutations, observer) {{\n",
              "        var display = window.getComputedStyle(gd).display;\n",
              "        if (!display || display === 'none') {{\n",
              "            console.log([gd, 'removed!']);\n",
              "            Plotly.purge(gd);\n",
              "            observer.disconnect();\n",
              "        }}\n",
              "}});\n",
              "\n",
              "// Listen for the removal of the full notebook cells\n",
              "var notebookContainer = gd.closest('#notebook-container');\n",
              "if (notebookContainer) {{\n",
              "    x.observe(notebookContainer, {childList: true});\n",
              "}}\n",
              "\n",
              "// Listen for the clearing of the current output cell\n",
              "var outputEl = gd.closest('.output');\n",
              "if (outputEl) {{\n",
              "    x.observe(outputEl, {childList: true});\n",
              "}}\n",
              "\n",
              "                        })                };                });            </script>        </div>"
            ]
          },
          "metadata": {},
          "output_type": "display_data"
        }
      ],
      "source": [
        "# Plotting feature importances\n",
        "px.bar(x=feature_cols,\n",
        "       y=rf_classifier.feature_importances_,\n",
        "       title='Random forest feature importances'\n",
        "      )"
      ]
    },
    {
      "cell_type": "code",
      "execution_count": null,
      "id": "a2974df8",
      "metadata": {
        "execution": {
          "iopub.execute_input": "2023-10-05T04:58:08.089365Z",
          "iopub.status.busy": "2023-10-05T04:58:08.088812Z",
          "iopub.status.idle": "2023-10-05T04:58:08.092821Z",
          "shell.execute_reply": "2023-10-05T04:58:08.092107Z"
        },
        "papermill": {
          "duration": 0.016093,
          "end_time": "2023-10-05T04:58:08.094626",
          "exception": false,
          "start_time": "2023-10-05T04:58:08.078533",
          "status": "completed"
        },
        "tags": [],
        "id": "a2974df8"
      },
      "outputs": [],
      "source": [
        "# Checking performance on validation set\n",
        "#rf_submission = get_events(val_data, rf_classifier)\n",
        "\n",
        "#print(f\"Random forest score: {score(val_solution, rf_submission, tolerances, **column_names)}\")"
      ]
    },
    {
      "cell_type": "code",
      "execution_count": null,
      "id": "1a4d7579",
      "metadata": {
        "execution": {
          "iopub.execute_input": "2023-10-05T04:58:08.114950Z",
          "iopub.status.busy": "2023-10-05T04:58:08.114325Z",
          "iopub.status.idle": "2023-10-05T04:58:10.538995Z",
          "shell.execute_reply": "2023-10-05T04:58:10.538218Z"
        },
        "papermill": {
          "duration": 2.437235,
          "end_time": "2023-10-05T04:58:10.541256",
          "exception": false,
          "start_time": "2023-10-05T04:58:08.104021",
          "status": "completed"
        },
        "tags": [],
        "id": "1a4d7579"
      },
      "outputs": [],
      "source": [
        "# Saving classifier\n",
        "import pickle\n",
        "with open('rf_classifier_5m_8h.pkl', 'wb') as f:\n",
        "    pickle.dump(rf_classifier, f)\n",
        "\n",
        "#with open('rf_classifier.pkl', 'rb') as f:\n",
        "#    rf_classifier = pickle.load(f)"
      ]
    },
    {
      "cell_type": "markdown",
      "id": "cb8c6869",
      "metadata": {
        "papermill": {
          "duration": 0.008835,
          "end_time": "2023-10-05T04:58:10.561125",
          "exception": false,
          "start_time": "2023-10-05T04:58:10.552290",
          "status": "completed"
        },
        "tags": [],
        "id": "cb8c6869"
      },
      "source": [
        "### Training and validating gradient boost"
      ]
    },
    {
      "cell_type": "code",
      "execution_count": null,
      "id": "f3d87f39",
      "metadata": {
        "execution": {
          "iopub.execute_input": "2023-10-05T04:58:10.581101Z",
          "iopub.status.busy": "2023-10-05T04:58:10.580544Z",
          "iopub.status.idle": "2023-10-05T04:58:10.585347Z",
          "shell.execute_reply": "2023-10-05T04:58:10.584639Z"
        },
        "papermill": {
          "duration": 0.016715,
          "end_time": "2023-10-05T04:58:10.586977",
          "exception": false,
          "start_time": "2023-10-05T04:58:10.570262",
          "status": "completed"
        },
        "tags": [],
        "id": "f3d87f39",
        "outputId": "7e28f580-c2f5-482f-8613-3ad29ce2c3cd"
      },
      "outputs": [
        {
          "data": {
            "text/plain": [
              "'# With SKL\\nfrom sklearn.ensemble import GradientBoostingClassifier\\n\\ngb_classifier = GradientBoostingClassifier(n_estimators=100, learning_rate=0.05, max_depth=10, random_state=42)\\ngb_classifier.fit(X_train[feature_cols], y_train)'"
            ]
          },
          "execution_count": 12,
          "metadata": {},
          "output_type": "execute_result"
        }
      ],
      "source": [
        "'''# With SKL\n",
        "from sklearn.ensemble import GradientBoostingClassifier\n",
        "\n",
        "gb_classifier = GradientBoostingClassifier(n_estimators=100, learning_rate=0.05, max_depth=10, random_state=42)\n",
        "gb_classifier.fit(X_train[feature_cols], y_train)'''"
      ]
    },
    {
      "cell_type": "code",
      "execution_count": null,
      "id": "07cedb0a",
      "metadata": {
        "execution": {
          "iopub.execute_input": "2023-10-05T04:58:10.607028Z",
          "iopub.status.busy": "2023-10-05T04:58:10.606461Z",
          "iopub.status.idle": "2023-10-05T04:58:10.611235Z",
          "shell.execute_reply": "2023-10-05T04:58:10.610326Z"
        },
        "papermill": {
          "duration": 0.016993,
          "end_time": "2023-10-05T04:58:10.612909",
          "exception": false,
          "start_time": "2023-10-05T04:58:10.595916",
          "status": "completed"
        },
        "tags": [],
        "id": "07cedb0a",
        "outputId": "fe41e82b-588a-4a03-db1c-8233205a77f9"
      },
      "outputs": [
        {
          "data": {
            "text/plain": [
              "\"# Plotting feature importances\\npx.bar(x=feature_cols, \\n       y=gb_classifier.feature_importances_,\\n       title='Gradient boosting feature importances'\\n      )\""
            ]
          },
          "execution_count": 13,
          "metadata": {},
          "output_type": "execute_result"
        }
      ],
      "source": [
        "'''# Plotting feature importances\n",
        "px.bar(x=feature_cols,\n",
        "       y=gb_classifier.feature_importances_,\n",
        "       title='Gradient boosting feature importances'\n",
        "      )'''"
      ]
    },
    {
      "cell_type": "code",
      "execution_count": null,
      "id": "e8b76b5b",
      "metadata": {
        "execution": {
          "iopub.execute_input": "2023-10-05T04:58:10.633018Z",
          "iopub.status.busy": "2023-10-05T04:58:10.632450Z",
          "iopub.status.idle": "2023-10-05T04:58:10.637324Z",
          "shell.execute_reply": "2023-10-05T04:58:10.636466Z"
        },
        "papermill": {
          "duration": 0.01716,
          "end_time": "2023-10-05T04:58:10.639146",
          "exception": false,
          "start_time": "2023-10-05T04:58:10.621986",
          "status": "completed"
        },
        "tags": [],
        "id": "e8b76b5b",
        "outputId": "84b8ed79-160c-4430-819b-c2ec06bc4d53"
      },
      "outputs": [
        {
          "data": {
            "text/plain": [
              "'\\n# Checking performance on validation set\\ngb_submission = get_events(val_data, gb_classifier)\\n\\nprint(f\"Gradient boosting score: {score(val_solution, gb_submission, tolerances, **column_names)}\")\\n'"
            ]
          },
          "execution_count": 14,
          "metadata": {},
          "output_type": "execute_result"
        }
      ],
      "source": [
        "'''\n",
        "# Checking performance on validation set\n",
        "gb_submission = get_events(val_data, gb_classifier)\n",
        "\n",
        "print(f\"Gradient boosting score: {score(val_solution, gb_submission, tolerances, **column_names)}\")\n",
        "'''"
      ]
    },
    {
      "cell_type": "markdown",
      "id": "cb64d381",
      "metadata": {
        "papermill": {
          "duration": 0.009209,
          "end_time": "2023-10-05T04:58:10.657860",
          "exception": false,
          "start_time": "2023-10-05T04:58:10.648651",
          "status": "completed"
        },
        "tags": [],
        "id": "cb64d381"
      },
      "source": [
        "## Applying to test data"
      ]
    },
    {
      "cell_type": "code",
      "execution_count": null,
      "id": "724951b3",
      "metadata": {
        "execution": {
          "iopub.execute_input": "2023-10-05T04:58:10.679142Z",
          "iopub.status.busy": "2023-10-05T04:58:10.678563Z",
          "iopub.status.idle": "2023-10-05T04:58:10.717708Z",
          "shell.execute_reply": "2023-10-05T04:58:10.716788Z"
        },
        "papermill": {
          "duration": 0.052287,
          "end_time": "2023-10-05T04:58:10.719889",
          "exception": false,
          "start_time": "2023-10-05T04:58:10.667602",
          "status": "completed"
        },
        "tags": [],
        "id": "724951b3"
      },
      "outputs": [],
      "source": [
        "# Recovering memory\n",
        "del train_data"
      ]
    },
    {
      "cell_type": "code",
      "execution_count": null,
      "id": "30f7cdd9",
      "metadata": {
        "execution": {
          "iopub.execute_input": "2023-10-05T04:58:10.740268Z",
          "iopub.status.busy": "2023-10-05T04:58:10.739722Z",
          "iopub.status.idle": "2023-10-05T04:58:11.647261Z",
          "shell.execute_reply": "2023-10-05T04:58:11.646084Z"
        },
        "papermill": {
          "duration": 0.920627,
          "end_time": "2023-10-05T04:58:11.649740",
          "exception": false,
          "start_time": "2023-10-05T04:58:10.729113",
          "status": "completed"
        },
        "tags": [],
        "id": "30f7cdd9",
        "outputId": "030ad19d-0c94-483a-a387-8f96dbd996fa"
      },
      "outputs": [
        {
          "name": "stderr",
          "output_type": "stream",
          "text": [
            "100%|██████████| 3/3 [00:00<00:00,  3.56it/s]\n"
          ]
        }
      ],
      "source": [
        "# Getting event predictions for test set and saving submission\n",
        "submission = get_events(test_series.collect(), rf_classifier)\n",
        "submission.to_csv('submission.csv', index=False)"
      ]
    }
  ],
  "metadata": {
    "kernelspec": {
      "display_name": "Python 3",
      "language": "python",
      "name": "python3"
    },
    "language_info": {
      "codemirror_mode": {
        "name": "ipython",
        "version": 3
      },
      "file_extension": ".py",
      "mimetype": "text/x-python",
      "name": "python",
      "nbconvert_exporter": "python",
      "pygments_lexer": "ipython3",
      "version": "3.10.12"
    },
    "papermill": {
      "default_parameters": {},
      "duration": 5270.727292,
      "end_time": "2023-10-05T04:58:12.787763",
      "environment_variables": {},
      "exception": null,
      "input_path": "__notebook__.ipynb",
      "output_path": "__notebook__.ipynb",
      "parameters": {},
      "start_time": "2023-10-05T03:30:22.060471",
      "version": "2.4.0"
    },
    "colab": {
      "provenance": []
    }
  },
  "nbformat": 4,
  "nbformat_minor": 5
}